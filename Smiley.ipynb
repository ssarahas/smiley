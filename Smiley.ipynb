{
 "cells": [
  {
   "cell_type": "code",
   "execution_count": 1,
   "metadata": {},
   "outputs": [
    {
     "name": "stdout",
     "output_type": "stream",
     "text": [
      "   ooooooo\n",
      "  o       o\n",
      " o oo   oo o\n",
      "o  oo   oo  o\n",
      "o     o     o\n",
      " o \\     / o\n",
      "  o \\___/ o\n",
      "   ooooooo\n"
     ]
    }
   ],
   "source": [
    "# What smiley will look like\n",
    "\n",
    "print('   ooooooo')\n",
    "print('  o       o')\n",
    "print(' o oo   oo o')\n",
    "print('o  oo   oo  o')\n",
    "print('o     o     o')\n",
    "print(' o \\\\     / o')\n",
    "print('  o \\\\___/ o')\n",
    "print('   ooooooo')"
   ]
  },
  {
   "cell_type": "code",
   "execution_count": 2,
   "metadata": {},
   "outputs": [],
   "source": [
    "# Smiley Printer\n",
    "\n",
    "def smiley(n):\n",
    "    \n",
    "    if n < 11:\n",
    "        return \"Too small for a smiley\"\n",
    "    \n",
    "    print (\"   \" + \"o\"*(n-6) + \"   \")     # 1st row\n",
    "    print(\"  o\" + \" \"*(n-6) + \"o  \")      # 2nd row\n",
    "\n",
    "    if n % 2 == 0:\n",
    "        print(\" o\" + \" \"*int((n-11)/2) + \"oo   oo\" + \" \"*int((n-11)/2+1) + \"o \")    # eye1 row\n",
    "    else:\n",
    "        print(\" o\" + \" \"*int((n-11)/2) + \"oo   oo\" + \" \"*int((n-11)/2) + \"o \")\n",
    "    \n",
    "    if n % 2 == 0:\n",
    "        print(\"o \" + \" \"*int((n-11)/2) + \"oo   oo\" + \" \"*int((n-11)/2+1) + \" o\")    # eye2 row\n",
    "    else:\n",
    "        print(\"o \" + \" \"*int((n-11)/2) + \"oo   oo\" + \" \"*int((n-11)/2) + \" o\")    \n",
    "     \n",
    "    if n % 2 == 0:\n",
    "        print(\"o\" + \" \"*int((n-3)/2) + \"o\" + \" \"*int((n-3)/2+1) + \"o\")              # nose\n",
    "    else:\n",
    "        print(\"o\" + \" \"*int((n-3)/2) + \"o\" + \" \"*int((n-3)/2) + \"o\")\n",
    "    \n",
    "    print(\" o\" + \" \\\\\" + \" \"*(n-8) + \"/ \" + \"o \")                                   # mouth1 row\n",
    "    print(\"  o\" + \" \\\\\" + \"_\"*(n-10) + \"/ \" + \"o  \")                                # mouth2 row\n",
    "    print (\"   \" + \"o\"*(n-6) + \"   \")                                               # last row\n"
   ]
  },
  {
   "cell_type": "markdown",
   "metadata": {},
   "source": [
    "#### Test cases:"
   ]
  },
  {
   "cell_type": "code",
   "execution_count": 3,
   "metadata": {},
   "outputs": [
    {
     "data": {
      "text/plain": [
       "'Too small for a smiley'"
      ]
     },
     "execution_count": 3,
     "metadata": {},
     "output_type": "execute_result"
    }
   ],
   "source": [
    "smiley(10)"
   ]
  },
  {
   "cell_type": "code",
   "execution_count": 4,
   "metadata": {},
   "outputs": [
    {
     "name": "stdout",
     "output_type": "stream",
     "text": [
      "   ooooooo   \n",
      "  o       o  \n",
      " o oo   oo o \n",
      "o  oo   oo  o\n",
      "o     o     o\n",
      " o \\     / o \n",
      "  o \\___/ o  \n",
      "   ooooooo   \n"
     ]
    }
   ],
   "source": [
    "smiley(13)"
   ]
  },
  {
   "cell_type": "code",
   "execution_count": 5,
   "metadata": {},
   "outputs": [
    {
     "name": "stdout",
     "output_type": "stream",
     "text": [
      "   oooooooooooooo   \n",
      "  o              o  \n",
      " o    oo   oo     o \n",
      "o     oo   oo      o\n",
      "o        o         o\n",
      " o \\            / o \n",
      "  o \\__________/ o  \n",
      "   oooooooooooooo   \n"
     ]
    }
   ],
   "source": [
    "smiley(20)"
   ]
  },
  {
   "cell_type": "code",
   "execution_count": 6,
   "metadata": {},
   "outputs": [
    {
     "name": "stdout",
     "output_type": "stream",
     "text": [
      "   ooooooooooooooooooooooooooo   \n",
      "  o                           o  \n",
      " o           oo   oo           o \n",
      "o            oo   oo            o\n",
      "o               o               o\n",
      " o \\                         / o \n",
      "  o \\_______________________/ o  \n",
      "   ooooooooooooooooooooooooooo   \n"
     ]
    }
   ],
   "source": [
    "smiley(33)"
   ]
  }
 ],
 "metadata": {
  "kernelspec": {
   "display_name": "Python 3",
   "language": "python",
   "name": "python3"
  },
  "language_info": {
   "codemirror_mode": {
    "name": "ipython",
    "version": 3
   },
   "file_extension": ".py",
   "mimetype": "text/x-python",
   "name": "python",
   "nbconvert_exporter": "python",
   "pygments_lexer": "ipython3",
   "version": "3.7.3"
  }
 },
 "nbformat": 4,
 "nbformat_minor": 2
}
